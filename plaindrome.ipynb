{
 "cells": [
  {
   "cell_type": "markdown",
   "metadata": {},
   "source": [
    "# Palindrome"
   ]
  },
  {
   "cell_type": "code",
   "execution_count": 3,
   "metadata": {},
   "outputs": [
    {
     "name": "stdout",
     "output_type": "stream",
     "text": [
      "enter your value5115548551\n",
      "Input : 5115548551, reverce : 1558455115\n",
      "string is not plaindrome\n"
     ]
    }
   ],
   "source": [
    "plaindrome = raw_input(\"enter your value\")\n",
    "reverce = plaindrome[::-1]\n",
    "if plaindrome == reverce:\n",
    "    print \"Input : {}, reverce : {}\" .format (plaindrome, reverce)\n",
    "    print \"string is plaindrome\"\n",
    "else:\n",
    "    print \"Input : {}, reverce : {}\" .format (plaindrome, reverce)\n",
    "    print \"string is not plaindrome\"\n"
   ]
  },
  {
   "cell_type": "code",
   "execution_count": null,
   "metadata": {
    "collapsed": true
   },
   "outputs": [],
   "source": []
  }
 ],
 "metadata": {
  "kernelspec": {
   "display_name": "Python 2",
   "language": "python",
   "name": "python2"
  },
  "language_info": {
   "codemirror_mode": {
    "name": "ipython",
    "version": 2
   },
   "file_extension": ".py",
   "mimetype": "text/x-python",
   "name": "python",
   "nbconvert_exporter": "python",
   "pygments_lexer": "ipython2",
   "version": "2.7.13"
  }
 },
 "nbformat": 4,
 "nbformat_minor": 2
}
